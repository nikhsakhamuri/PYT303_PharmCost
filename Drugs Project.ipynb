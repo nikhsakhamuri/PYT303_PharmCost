{
 "cells": [
  {
   "cell_type": "code",
   "execution_count": 19,
   "id": "21ff2a20",
   "metadata": {},
   "outputs": [],
   "source": [
    "# First we must import pandas.\n",
    "\n",
    "import pandas as pd"
   ]
  },
  {
   "cell_type": "code",
   "execution_count": 20,
   "id": "ca6e5675",
   "metadata": {},
   "outputs": [],
   "source": [
    "# Next, we need to define the filepath to our file.\n",
    "\n",
    "filepath = ('https://github.com/nikhsakhamuri/PYT303_PharmCost/blob/main/PharmaceuticalCostsbyCountry.csv')"
   ]
  },
  {
   "cell_type": "code",
   "execution_count": 21,
   "id": "1a3517c6",
   "metadata": {},
   "outputs": [],
   "source": [
    "# Now we can load our data.\n",
    "\n",
    "drugData = pd.read_csv(filepath)"
   ]
  },
  {
   "cell_type": "code",
   "execution_count": 22,
   "id": "98b6ecda",
   "metadata": {},
   "outputs": [
    {
     "name": "stdout",
     "output_type": "stream",
     "text": [
      "<class 'pandas.core.frame.DataFrame'>\n"
     ]
    }
   ],
   "source": [
    "print(type(drugData))"
   ]
  },
  {
   "cell_type": "code",
   "execution_count": 23,
   "id": "bed78efe",
   "metadata": {},
   "outputs": [
    {
     "data": {
      "text/html": [
       "<div>\n",
       "<style scoped>\n",
       "    .dataframe tbody tr th:only-of-type {\n",
       "        vertical-align: middle;\n",
       "    }\n",
       "\n",
       "    .dataframe tbody tr th {\n",
       "        vertical-align: top;\n",
       "    }\n",
       "\n",
       "    .dataframe thead th {\n",
       "        text-align: right;\n",
       "    }\n",
       "</style>\n",
       "<table border=\"1\" class=\"dataframe\">\n",
       "  <thead>\n",
       "    <tr style=\"text-align: right;\">\n",
       "      <th></th>\n",
       "      <th>LOCATION</th>\n",
       "      <th>TIME</th>\n",
       "      <th>PC_HEALTHXP</th>\n",
       "      <th>PC_GDP</th>\n",
       "      <th>USD_CAP</th>\n",
       "      <th>FLAG_CODES</th>\n",
       "      <th>TOTAL_SPEND</th>\n",
       "    </tr>\n",
       "  </thead>\n",
       "  <tbody>\n",
       "    <tr>\n",
       "      <th>0</th>\n",
       "      <td>AUS</td>\n",
       "      <td>1971</td>\n",
       "      <td>15.992</td>\n",
       "      <td>0.727</td>\n",
       "      <td>35.720</td>\n",
       "      <td>NaN</td>\n",
       "      <td>462.11</td>\n",
       "    </tr>\n",
       "    <tr>\n",
       "      <th>1</th>\n",
       "      <td>AUS</td>\n",
       "      <td>1972</td>\n",
       "      <td>15.091</td>\n",
       "      <td>0.686</td>\n",
       "      <td>36.056</td>\n",
       "      <td>NaN</td>\n",
       "      <td>475.11</td>\n",
       "    </tr>\n",
       "    <tr>\n",
       "      <th>2</th>\n",
       "      <td>AUS</td>\n",
       "      <td>1973</td>\n",
       "      <td>15.117</td>\n",
       "      <td>0.681</td>\n",
       "      <td>39.871</td>\n",
       "      <td>NaN</td>\n",
       "      <td>533.47</td>\n",
       "    </tr>\n",
       "  </tbody>\n",
       "</table>\n",
       "</div>"
      ],
      "text/plain": [
       "  LOCATION  TIME  PC_HEALTHXP  PC_GDP  USD_CAP FLAG_CODES  TOTAL_SPEND\n",
       "0      AUS  1971       15.992   0.727   35.720        NaN       462.11\n",
       "1      AUS  1972       15.091   0.686   36.056        NaN       475.11\n",
       "2      AUS  1973       15.117   0.681   39.871        NaN       533.47"
      ]
     },
     "execution_count": 23,
     "metadata": {},
     "output_type": "execute_result"
    }
   ],
   "source": [
    "drugData.head(3)"
   ]
  },
  {
   "cell_type": "code",
   "execution_count": 24,
   "id": "ddaff82e",
   "metadata": {},
   "outputs": [
    {
     "name": "stdout",
     "output_type": "stream",
     "text": [
      "<class 'pandas.core.frame.DataFrame'>\n",
      "RangeIndex: 1036 entries, 0 to 1035\n",
      "Data columns (total 7 columns):\n",
      " #   Column       Non-Null Count  Dtype  \n",
      "---  ------       --------------  -----  \n",
      " 0   LOCATION     1036 non-null   object \n",
      " 1   TIME         1036 non-null   int64  \n",
      " 2   PC_HEALTHXP  1036 non-null   float64\n",
      " 3   PC_GDP       1036 non-null   float64\n",
      " 4   USD_CAP      1036 non-null   float64\n",
      " 5   FLAG_CODES   63 non-null     object \n",
      " 6   TOTAL_SPEND  1036 non-null   float64\n",
      "dtypes: float64(4), int64(1), object(2)\n",
      "memory usage: 56.8+ KB\n"
     ]
    }
   ],
   "source": [
    "drugData.info()"
   ]
  },
  {
   "cell_type": "code",
   "execution_count": 25,
   "id": "1d81f0e1",
   "metadata": {},
   "outputs": [
    {
     "data": {
      "text/html": [
       "<div>\n",
       "<style scoped>\n",
       "    .dataframe tbody tr th:only-of-type {\n",
       "        vertical-align: middle;\n",
       "    }\n",
       "\n",
       "    .dataframe tbody tr th {\n",
       "        vertical-align: top;\n",
       "    }\n",
       "\n",
       "    .dataframe thead th {\n",
       "        text-align: right;\n",
       "    }\n",
       "</style>\n",
       "<table border=\"1\" class=\"dataframe\">\n",
       "  <thead>\n",
       "    <tr style=\"text-align: right;\">\n",
       "      <th></th>\n",
       "      <th>TIME</th>\n",
       "      <th>PC_HEALTHXP</th>\n",
       "      <th>PC_GDP</th>\n",
       "      <th>USD_CAP</th>\n",
       "      <th>TOTAL_SPEND</th>\n",
       "    </tr>\n",
       "  </thead>\n",
       "  <tbody>\n",
       "    <tr>\n",
       "      <th>count</th>\n",
       "      <td>1036.000000</td>\n",
       "      <td>1036.000000</td>\n",
       "      <td>1036.000000</td>\n",
       "      <td>1036.000000</td>\n",
       "      <td>1036.000000</td>\n",
       "    </tr>\n",
       "    <tr>\n",
       "      <th>mean</th>\n",
       "      <td>1996.809846</td>\n",
       "      <td>16.406307</td>\n",
       "      <td>1.170948</td>\n",
       "      <td>295.046989</td>\n",
       "      <td>11765.423118</td>\n",
       "    </tr>\n",
       "    <tr>\n",
       "      <th>std</th>\n",
       "      <td>12.498330</td>\n",
       "      <td>6.389064</td>\n",
       "      <td>0.465635</td>\n",
       "      <td>209.152134</td>\n",
       "      <td>34878.286123</td>\n",
       "    </tr>\n",
       "    <tr>\n",
       "      <th>min</th>\n",
       "      <td>1970.000000</td>\n",
       "      <td>5.545000</td>\n",
       "      <td>0.207000</td>\n",
       "      <td>3.160000</td>\n",
       "      <td>6.290000</td>\n",
       "    </tr>\n",
       "    <tr>\n",
       "      <th>25%</th>\n",
       "      <td>1987.000000</td>\n",
       "      <td>11.516250</td>\n",
       "      <td>0.768250</td>\n",
       "      <td>111.098500</td>\n",
       "      <td>728.180000</td>\n",
       "    </tr>\n",
       "    <tr>\n",
       "      <th>50%</th>\n",
       "      <td>1999.000000</td>\n",
       "      <td>14.967500</td>\n",
       "      <td>1.141500</td>\n",
       "      <td>266.332000</td>\n",
       "      <td>2349.570000</td>\n",
       "    </tr>\n",
       "    <tr>\n",
       "      <th>75%</th>\n",
       "      <td>2007.000000</td>\n",
       "      <td>20.590500</td>\n",
       "      <td>1.523250</td>\n",
       "      <td>446.109500</td>\n",
       "      <td>7778.180000</td>\n",
       "    </tr>\n",
       "    <tr>\n",
       "      <th>max</th>\n",
       "      <td>2016.000000</td>\n",
       "      <td>40.239000</td>\n",
       "      <td>2.797000</td>\n",
       "      <td>1162.399000</td>\n",
       "      <td>373009.910000</td>\n",
       "    </tr>\n",
       "  </tbody>\n",
       "</table>\n",
       "</div>"
      ],
      "text/plain": [
       "              TIME  PC_HEALTHXP       PC_GDP      USD_CAP    TOTAL_SPEND\n",
       "count  1036.000000  1036.000000  1036.000000  1036.000000    1036.000000\n",
       "mean   1996.809846    16.406307     1.170948   295.046989   11765.423118\n",
       "std      12.498330     6.389064     0.465635   209.152134   34878.286123\n",
       "min    1970.000000     5.545000     0.207000     3.160000       6.290000\n",
       "25%    1987.000000    11.516250     0.768250   111.098500     728.180000\n",
       "50%    1999.000000    14.967500     1.141500   266.332000    2349.570000\n",
       "75%    2007.000000    20.590500     1.523250   446.109500    7778.180000\n",
       "max    2016.000000    40.239000     2.797000  1162.399000  373009.910000"
      ]
     },
     "execution_count": 25,
     "metadata": {},
     "output_type": "execute_result"
    }
   ],
   "source": [
    "drugData.describe()"
   ]
  },
  {
   "cell_type": "code",
   "execution_count": 26,
   "id": "f5a5695a",
   "metadata": {},
   "outputs": [
    {
     "data": {
      "text/plain": [
       "array(['AUS', 'AUT', 'BEL', 'CAN', 'CZE', 'DNK', 'FIN', 'FRA', 'DEU',\n",
       "       'GRC', 'HUN', 'ISL', 'IRL', 'ITA', 'JPN', 'KOR', 'LUX', 'MEX',\n",
       "       'NLD', 'NZL', 'NOR', 'POL', 'PRT', 'SVK', 'ESP', 'SWE', 'CHE',\n",
       "       'TUR', 'GBR', 'USA', 'EST', 'SVN', 'ISR', 'LVA', 'LTU', 'RUS'],\n",
       "      dtype=object)"
      ]
     },
     "execution_count": 26,
     "metadata": {},
     "output_type": "execute_result"
    }
   ],
   "source": [
    "drugData['LOCATION'].unique()"
   ]
  },
  {
   "cell_type": "code",
   "execution_count": 27,
   "id": "ac8c36f6",
   "metadata": {},
   "outputs": [
    {
     "data": {
      "text/plain": [
       "36"
      ]
     },
     "execution_count": 27,
     "metadata": {},
     "output_type": "execute_result"
    }
   ],
   "source": [
    "drugData['LOCATION'].nunique()"
   ]
  },
  {
   "cell_type": "code",
   "execution_count": 28,
   "id": "596c7548",
   "metadata": {},
   "outputs": [
    {
     "data": {
      "text/plain": [
       "AUS    44\n",
       "AUT    26\n",
       "BEL    41\n",
       "CAN    45\n",
       "CHE    31\n",
       "CZE    26\n",
       "DEU    45\n",
       "DNK    36\n",
       "ESP    32\n",
       "EST    17\n",
       "FIN    46\n",
       "FRA    30\n",
       "GBR    31\n",
       "GRC    27\n",
       "HUN    22\n",
       "IRL    41\n",
       "ISL    46\n",
       "ISR     8\n",
       "ITA    29\n",
       "JPN    32\n",
       "KOR    47\n",
       "LTU    12\n",
       "LUX    21\n",
       "LVA    12\n",
       "MEX    17\n",
       "NLD    43\n",
       "NOR    47\n",
       "NZL    24\n",
       "POL    14\n",
       "PRT    39\n",
       "RUS     1\n",
       "SVK    17\n",
       "SVN    14\n",
       "SWE    46\n",
       "TUR    11\n",
       "USA    16\n",
       "Name: LOCATION, dtype: int64"
      ]
     },
     "execution_count": 28,
     "metadata": {},
     "output_type": "execute_result"
    }
   ],
   "source": [
    "drugData['LOCATION'].value_counts().sort_index()\n"
   ]
  }
 ],
 "metadata": {
  "kernelspec": {
   "display_name": "Python 3 (ipykernel)",
   "language": "python",
   "name": "python3"
  },
  "language_info": {
   "codemirror_mode": {
    "name": "ipython",
    "version": 3
   },
   "file_extension": ".py",
   "mimetype": "text/x-python",
   "name": "python",
   "nbconvert_exporter": "python",
   "pygments_lexer": "ipython3",
   "version": "3.9.12"
  }
 },
 "nbformat": 4,
 "nbformat_minor": 5
}
