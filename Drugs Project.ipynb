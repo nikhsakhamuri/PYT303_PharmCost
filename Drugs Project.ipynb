{
 "cells": [
  {
   "cell_type": "markdown",
   "id": "db5240e8",
   "metadata": {},
   "source": [
    "# PYT303 Group Project -- Healthcare\n",
    "\n",
    "Group Members:\n",
    "Nikhitha Sakhamuri, Project Manager\n",
    "Brandon Aragon\n",
    "Jesse Cota\n",
    "Kevin Johnson\n",
    "Sofia Paniagua\n",
    "\n"
   ]
  },
  {
   "cell_type": "markdown",
   "id": "4600af74",
   "metadata": {},
   "source": [
    "## Objective\n",
    "\n",
    "Utilizing the data provided by Organisation for Economic Cooperation and Development, we will be testing the following hypothesis:\n",
    "\n",
    "Countries with higher levels of income per capita spend more on drugs per capita."
   ]
  },
  {
   "cell_type": "code",
   "execution_count": 32,
   "id": "21ff2a20",
   "metadata": {},
   "outputs": [],
   "source": [
    "# First we must import pandas.\n",
    "\n",
    "import pandas as pd"
   ]
  },
  {
   "cell_type": "code",
   "execution_count": 46,
   "id": "ca6e5675",
   "metadata": {},
   "outputs": [
    {
     "name": "stdout",
     "output_type": "stream",
     "text": [
      "          TIME  PC_HEALTHXP  PC_GDP  USD_CAP FLAG_CODES  TOTAL_SPEND\n",
      "LOCATION                                                            \n",
      "AUS       1971       15.992   0.727   35.720        NaN       462.11\n",
      "AUS       1972       15.091   0.686   36.056        NaN       475.11\n",
      "AUS       1973       15.117   0.681   39.871        NaN       533.47\n",
      "AUS       1974       14.771   0.755   47.559        NaN       652.65\n",
      "AUS       1975       11.849   0.682   47.561        NaN       660.76\n"
     ]
    }
   ],
   "source": [
    "# Next, we need to define the filepath to our file.\n",
    "#filepath = ('/Users/jesse/OneDrive/Desktop/Project/Data_csv.csv')\n",
    "#filepath = ('C:/Users/16614/Desktop/PYT303/Group Project/PharmaceuticalCostsbyCountry.csv')\n",
    "\n",
    "filepath = 'https://raw.githubusercontent.com/nikhsakhamuri/PYT303_PharmCost/main/PharmaceuticalCostsbyCountry.csv'\n",
    "#df = pd.read_csv(filepath, index_col=0)\n",
    "#print(df.head(5))"
   ]
  },
  {
   "cell_type": "code",
   "execution_count": 47,
   "id": "1a3517c6",
   "metadata": {},
   "outputs": [],
   "source": [
    "# Now we can load our data.\n",
    "drugData = pd.read_csv(filepath)"
   ]
  },
  {
   "cell_type": "code",
   "execution_count": 48,
   "id": "98b6ecda",
   "metadata": {},
   "outputs": [
    {
     "name": "stdout",
     "output_type": "stream",
     "text": [
      "<class 'pandas.core.frame.DataFrame'>\n"
     ]
    }
   ],
   "source": [
    "print(type(drugData))"
   ]
  },
  {
   "cell_type": "markdown",
   "id": "8db95219",
   "metadata": {},
   "source": [
    "## Data Exploration\n",
    "\n",
    "We will first explore the data we have loaded. We are looking to understand size, data type, columns, and variables we can use for analysis. "
   ]
  },
  {
   "cell_type": "code",
   "execution_count": 49,
   "id": "41eb95fe",
   "metadata": {},
   "outputs": [
    {
     "data": {
      "text/plain": [
       "(1036, 7)"
      ]
     },
     "execution_count": 49,
     "metadata": {},
     "output_type": "execute_result"
    }
   ],
   "source": [
    "drugData.shape\n",
    "\n",
    "#data has 1036 rows, and 7 columns"
   ]
  },
  {
   "cell_type": "code",
   "execution_count": 50,
   "id": "ddaff82e",
   "metadata": {},
   "outputs": [
    {
     "name": "stdout",
     "output_type": "stream",
     "text": [
      "<class 'pandas.core.frame.DataFrame'>\n",
      "RangeIndex: 1036 entries, 0 to 1035\n",
      "Data columns (total 7 columns):\n",
      " #   Column       Non-Null Count  Dtype  \n",
      "---  ------       --------------  -----  \n",
      " 0   LOCATION     1036 non-null   object \n",
      " 1   TIME         1036 non-null   int64  \n",
      " 2   PC_HEALTHXP  1036 non-null   float64\n",
      " 3   PC_GDP       1036 non-null   float64\n",
      " 4   USD_CAP      1036 non-null   float64\n",
      " 5   FLAG_CODES   63 non-null     object \n",
      " 6   TOTAL_SPEND  1036 non-null   float64\n",
      "dtypes: float64(4), int64(1), object(2)\n",
      "memory usage: 56.8+ KB\n"
     ]
    }
   ],
   "source": [
    "drugData.info()"
   ]
  },
  {
   "cell_type": "code",
   "execution_count": 25,
   "id": "54494c06",
   "metadata": {},
   "outputs": [],
   "source": [
    "#We want to convert the time column to a datetime format to depict the true format of the column\n",
    "\n",
    "#drugData['TIME']=pd.to_datetime(drugData['TIME'])"
   ]
  },
  {
   "cell_type": "code",
   "execution_count": 26,
   "id": "11bc9549",
   "metadata": {},
   "outputs": [
    {
     "name": "stdout",
     "output_type": "stream",
     "text": [
      "<class 'pandas.core.frame.DataFrame'>\n",
      "RangeIndex: 1036 entries, 0 to 1035\n",
      "Data columns (total 7 columns):\n",
      " #   Column       Non-Null Count  Dtype         \n",
      "---  ------       --------------  -----         \n",
      " 0   LOCATION     1036 non-null   object        \n",
      " 1   TIME         1036 non-null   datetime64[ns]\n",
      " 2   PC_HEALTHXP  1036 non-null   float64       \n",
      " 3   PC_GDP       1036 non-null   float64       \n",
      " 4   USD_CAP      1036 non-null   float64       \n",
      " 5   FLAG_CODES   63 non-null     object        \n",
      " 6   TOTAL_SPEND  1036 non-null   float64       \n",
      "dtypes: datetime64[ns](1), float64(4), object(2)\n",
      "memory usage: 56.8+ KB\n"
     ]
    }
   ],
   "source": [
    "#the 'TIME' column should now be a Dtype=DateTime\n",
    "\n",
    "#drugData.info()"
   ]
  },
  {
   "cell_type": "markdown",
   "id": "4b6d1f6d",
   "metadata": {},
   "source": [
    "Of the 1036 rows, most of them have values except for the 'FLAG_CODES' column. Due to the missing data, we will want to exclude usage of this column for any analysis. "
   ]
  },
  {
   "cell_type": "markdown",
   "id": "8cdcb79b",
   "metadata": {},
   "source": [
    "### Understanding the Data in each column"
   ]
  },
  {
   "cell_type": "code",
   "execution_count": 7,
   "id": "bed78efe",
   "metadata": {},
   "outputs": [
    {
     "data": {
      "text/html": [
       "<div>\n",
       "<style scoped>\n",
       "    .dataframe tbody tr th:only-of-type {\n",
       "        vertical-align: middle;\n",
       "    }\n",
       "\n",
       "    .dataframe tbody tr th {\n",
       "        vertical-align: top;\n",
       "    }\n",
       "\n",
       "    .dataframe thead th {\n",
       "        text-align: right;\n",
       "    }\n",
       "</style>\n",
       "<table border=\"1\" class=\"dataframe\">\n",
       "  <thead>\n",
       "    <tr style=\"text-align: right;\">\n",
       "      <th></th>\n",
       "      <th>LOCATION</th>\n",
       "      <th>TIME</th>\n",
       "      <th>PC_HEALTHXP</th>\n",
       "      <th>PC_GDP</th>\n",
       "      <th>USD_CAP</th>\n",
       "      <th>FLAG_CODES</th>\n",
       "      <th>TOTAL_SPEND</th>\n",
       "    </tr>\n",
       "  </thead>\n",
       "  <tbody>\n",
       "    <tr>\n",
       "      <th>0</th>\n",
       "      <td>AUS</td>\n",
       "      <td>1971</td>\n",
       "      <td>15.992</td>\n",
       "      <td>0.727</td>\n",
       "      <td>35.720</td>\n",
       "      <td>NaN</td>\n",
       "      <td>462.11</td>\n",
       "    </tr>\n",
       "    <tr>\n",
       "      <th>1</th>\n",
       "      <td>AUS</td>\n",
       "      <td>1972</td>\n",
       "      <td>15.091</td>\n",
       "      <td>0.686</td>\n",
       "      <td>36.056</td>\n",
       "      <td>NaN</td>\n",
       "      <td>475.11</td>\n",
       "    </tr>\n",
       "    <tr>\n",
       "      <th>2</th>\n",
       "      <td>AUS</td>\n",
       "      <td>1973</td>\n",
       "      <td>15.117</td>\n",
       "      <td>0.681</td>\n",
       "      <td>39.871</td>\n",
       "      <td>NaN</td>\n",
       "      <td>533.47</td>\n",
       "    </tr>\n",
       "  </tbody>\n",
       "</table>\n",
       "</div>"
      ],
      "text/plain": [
       "  LOCATION  TIME  PC_HEALTHXP  PC_GDP  USD_CAP FLAG_CODES  TOTAL_SPEND\n",
       "0      AUS  1971       15.992   0.727   35.720        NaN       462.11\n",
       "1      AUS  1972       15.091   0.686   36.056        NaN       475.11\n",
       "2      AUS  1973       15.117   0.681   39.871        NaN       533.47"
      ]
     },
     "execution_count": 7,
     "metadata": {},
     "output_type": "execute_result"
    }
   ],
   "source": [
    "drugData.head(3)"
   ]
  },
  {
   "cell_type": "code",
   "execution_count": 27,
   "id": "1d81f0e1",
   "metadata": {},
   "outputs": [
    {
     "data": {
      "text/html": [
       "<div>\n",
       "<style scoped>\n",
       "    .dataframe tbody tr th:only-of-type {\n",
       "        vertical-align: middle;\n",
       "    }\n",
       "\n",
       "    .dataframe tbody tr th {\n",
       "        vertical-align: top;\n",
       "    }\n",
       "\n",
       "    .dataframe thead th {\n",
       "        text-align: right;\n",
       "    }\n",
       "</style>\n",
       "<table border=\"1\" class=\"dataframe\">\n",
       "  <thead>\n",
       "    <tr style=\"text-align: right;\">\n",
       "      <th></th>\n",
       "      <th>PC_HEALTHXP</th>\n",
       "      <th>PC_GDP</th>\n",
       "      <th>USD_CAP</th>\n",
       "      <th>TOTAL_SPEND</th>\n",
       "    </tr>\n",
       "  </thead>\n",
       "  <tbody>\n",
       "    <tr>\n",
       "      <th>count</th>\n",
       "      <td>1036.000000</td>\n",
       "      <td>1036.000000</td>\n",
       "      <td>1036.000000</td>\n",
       "      <td>1036.000000</td>\n",
       "    </tr>\n",
       "    <tr>\n",
       "      <th>mean</th>\n",
       "      <td>16.406307</td>\n",
       "      <td>1.170948</td>\n",
       "      <td>295.046989</td>\n",
       "      <td>11765.423118</td>\n",
       "    </tr>\n",
       "    <tr>\n",
       "      <th>std</th>\n",
       "      <td>6.389064</td>\n",
       "      <td>0.465635</td>\n",
       "      <td>209.152134</td>\n",
       "      <td>34878.286123</td>\n",
       "    </tr>\n",
       "    <tr>\n",
       "      <th>min</th>\n",
       "      <td>5.545000</td>\n",
       "      <td>0.207000</td>\n",
       "      <td>3.160000</td>\n",
       "      <td>6.290000</td>\n",
       "    </tr>\n",
       "    <tr>\n",
       "      <th>25%</th>\n",
       "      <td>11.516250</td>\n",
       "      <td>0.768250</td>\n",
       "      <td>111.098500</td>\n",
       "      <td>728.180000</td>\n",
       "    </tr>\n",
       "    <tr>\n",
       "      <th>50%</th>\n",
       "      <td>14.967500</td>\n",
       "      <td>1.141500</td>\n",
       "      <td>266.332000</td>\n",
       "      <td>2349.570000</td>\n",
       "    </tr>\n",
       "    <tr>\n",
       "      <th>75%</th>\n",
       "      <td>20.590500</td>\n",
       "      <td>1.523250</td>\n",
       "      <td>446.109500</td>\n",
       "      <td>7778.180000</td>\n",
       "    </tr>\n",
       "    <tr>\n",
       "      <th>max</th>\n",
       "      <td>40.239000</td>\n",
       "      <td>2.797000</td>\n",
       "      <td>1162.399000</td>\n",
       "      <td>373009.910000</td>\n",
       "    </tr>\n",
       "  </tbody>\n",
       "</table>\n",
       "</div>"
      ],
      "text/plain": [
       "       PC_HEALTHXP       PC_GDP      USD_CAP    TOTAL_SPEND\n",
       "count  1036.000000  1036.000000  1036.000000    1036.000000\n",
       "mean     16.406307     1.170948   295.046989   11765.423118\n",
       "std       6.389064     0.465635   209.152134   34878.286123\n",
       "min       5.545000     0.207000     3.160000       6.290000\n",
       "25%      11.516250     0.768250   111.098500     728.180000\n",
       "50%      14.967500     1.141500   266.332000    2349.570000\n",
       "75%      20.590500     1.523250   446.109500    7778.180000\n",
       "max      40.239000     2.797000  1162.399000  373009.910000"
      ]
     },
     "execution_count": 27,
     "metadata": {},
     "output_type": "execute_result"
    }
   ],
   "source": [
    "drugData.describe()"
   ]
  },
  {
   "cell_type": "code",
   "execution_count": 8,
   "id": "f5a5695a",
   "metadata": {},
   "outputs": [
    {
     "data": {
      "text/plain": [
       "array(['AUS', 'AUT', 'BEL', 'CAN', 'CZE', 'DNK', 'FIN', 'FRA', 'DEU',\n",
       "       'GRC', 'HUN', 'ISL', 'IRL', 'ITA', 'JPN', 'KOR', 'LUX', 'MEX',\n",
       "       'NLD', 'NZL', 'NOR', 'POL', 'PRT', 'SVK', 'ESP', 'SWE', 'CHE',\n",
       "       'TUR', 'GBR', 'USA', 'EST', 'SVN', 'ISR', 'LVA', 'LTU', 'RUS'],\n",
       "      dtype=object)"
      ]
     },
     "execution_count": 8,
     "metadata": {},
     "output_type": "execute_result"
    }
   ],
   "source": [
    "drugData['LOCATION'].unique()"
   ]
  },
  {
   "cell_type": "code",
   "execution_count": 9,
   "id": "ac8c36f6",
   "metadata": {},
   "outputs": [
    {
     "data": {
      "text/plain": [
       "36"
      ]
     },
     "execution_count": 9,
     "metadata": {},
     "output_type": "execute_result"
    }
   ],
   "source": [
    "drugData['LOCATION'].nunique()"
   ]
  },
  {
   "cell_type": "code",
   "execution_count": 10,
   "id": "596c7548",
   "metadata": {},
   "outputs": [
    {
     "data": {
      "text/plain": [
       "AUS    44\n",
       "AUT    26\n",
       "BEL    41\n",
       "CAN    45\n",
       "CHE    31\n",
       "CZE    26\n",
       "DEU    45\n",
       "DNK    36\n",
       "ESP    32\n",
       "EST    17\n",
       "FIN    46\n",
       "FRA    30\n",
       "GBR    31\n",
       "GRC    27\n",
       "HUN    22\n",
       "IRL    41\n",
       "ISL    46\n",
       "ISR     8\n",
       "ITA    29\n",
       "JPN    32\n",
       "KOR    47\n",
       "LTU    12\n",
       "LUX    21\n",
       "LVA    12\n",
       "MEX    17\n",
       "NLD    43\n",
       "NOR    47\n",
       "NZL    24\n",
       "POL    14\n",
       "PRT    39\n",
       "RUS     1\n",
       "SVK    17\n",
       "SVN    14\n",
       "SWE    46\n",
       "TUR    11\n",
       "USA    16\n",
       "Name: LOCATION, dtype: int64"
      ]
     },
     "execution_count": 10,
     "metadata": {},
     "output_type": "execute_result"
    }
   ],
   "source": [
    "drugData['LOCATION'].value_counts().sort_index()\n"
   ]
  },
  {
   "cell_type": "code",
   "execution_count": 38,
   "id": "e2eeeaf6",
   "metadata": {},
   "outputs": [
    {
     "data": {
      "text/plain": [
       "array([1971, 1972, 1973, 1974, 1975, 1976, 1977, 1978, 1979, 1980, 1981,\n",
       "       1982, 1983, 1984, 1985, 1986, 1987, 1988, 1989, 1990, 1991, 1992,\n",
       "       1993, 1994, 1995, 1996, 1997, 1998, 1999, 2000, 2001, 2002, 2003,\n",
       "       2004, 2005, 2006, 2007, 2008, 2009, 2010, 2011, 2012, 2013, 2014,\n",
       "       2015, 1970, 2016], dtype=int64)"
      ]
     },
     "execution_count": 38,
     "metadata": {},
     "output_type": "execute_result"
    }
   ],
   "source": [
    "drugData['TIME'].unique()\n",
    "#drugData['TIME'].nunique()\n",
    "#drugData['TIME'].value_counts().sort_index()"
   ]
  },
  {
   "cell_type": "code",
   "execution_count": 39,
   "id": "1ab42910",
   "metadata": {},
   "outputs": [
    {
     "data": {
      "text/plain": [
       "47"
      ]
     },
     "execution_count": 39,
     "metadata": {},
     "output_type": "execute_result"
    }
   ],
   "source": [
    "drugData['TIME'].nunique()"
   ]
  },
  {
   "cell_type": "code",
   "execution_count": 40,
   "id": "1bc7d174",
   "metadata": {},
   "outputs": [
    {
     "data": {
      "text/plain": [
       "1970    11\n",
       "1971    11\n",
       "1972    11\n",
       "1973    11\n",
       "1974    11\n",
       "1975    13\n",
       "1976    13\n",
       "1977    13\n",
       "1978    13\n",
       "1979    13\n",
       "1980    18\n",
       "1981    17\n",
       "1982    17\n",
       "1983    17\n",
       "1984    18\n",
       "1985    20\n",
       "1986    19\n",
       "1987    19\n",
       "1988    20\n",
       "1989    20\n",
       "1990    24\n",
       "1991    22\n",
       "1992    23\n",
       "1993    23\n",
       "1994    24\n",
       "1995    25\n",
       "1996    25\n",
       "1997    25\n",
       "1998    21\n",
       "1999    24\n",
       "2000    26\n",
       "2001    26\n",
       "2002    28\n",
       "2003    28\n",
       "2004    31\n",
       "2005    32\n",
       "2006    33\n",
       "2007    33\n",
       "2008    31\n",
       "2009    32\n",
       "2010    32\n",
       "2011    32\n",
       "2012    32\n",
       "2013    33\n",
       "2014    32\n",
       "2015    30\n",
       "2016     4\n",
       "Name: TIME, dtype: int64"
      ]
     },
     "execution_count": 40,
     "metadata": {},
     "output_type": "execute_result"
    }
   ],
   "source": [
    "drugData['TIME'].value_counts().sort_index()"
   ]
  },
  {
   "cell_type": "markdown",
   "id": "9dd6c6ea",
   "metadata": {},
   "source": [
    "For our analysis, we need to derive the total Healthcare Expenditure, Total GDP, Population, and GDP Per Capita. We are able to get these values by utilizing the percentage and total values in the data. "
   ]
  },
  {
   "cell_type": "code",
   "execution_count": 41,
   "id": "e0df8cfa",
   "metadata": {},
   "outputs": [],
   "source": [
    "#Calculate the Total Healthcare Expenditure in mill USD \n",
    "drugData['Total HC Exp in mill USD'] = drugData.apply(lambda x: x['TOTAL_SPEND'] / (x['PC_HEALTHXP']/100), axis=1)"
   ]
  },
  {
   "cell_type": "code",
   "execution_count": 42,
   "id": "a610199a",
   "metadata": {},
   "outputs": [],
   "source": [
    "#Calculate the GDP (PPP) in mill USD \n",
    "\n",
    "drugData['GDP (PPP) in mill USD'] = drugData.apply(lambda x: x['TOTAL_SPEND'] / (x['PC_GDP']/100), axis=1)"
   ]
  },
  {
   "cell_type": "code",
   "execution_count": 43,
   "id": "878c2082",
   "metadata": {},
   "outputs": [],
   "source": [
    "#Calculate the Population in mill\n",
    "\n",
    "drugData['Pop in mill'] = drugData.apply(lambda x: x['TOTAL_SPEND'] / x['USD_CAP'], axis=1)"
   ]
  },
  {
   "cell_type": "code",
   "execution_count": 44,
   "id": "25e0b5dd",
   "metadata": {},
   "outputs": [],
   "source": [
    "#Calculate the GDP (PPP) per Capita in USD \n",
    "\n",
    "drugData['GDP (PPP) per Capita in USD'] = drugData.apply(lambda x: x['GDP (PPP) in mill USD'] / x['Pop in mill'], axis=1)"
   ]
  },
  {
   "cell_type": "code",
   "execution_count": 52,
   "id": "eec1397d",
   "metadata": {
    "scrolled": true
   },
   "outputs": [
    {
     "data": {
      "text/html": [
       "<div>\n",
       "<style scoped>\n",
       "    .dataframe tbody tr th:only-of-type {\n",
       "        vertical-align: middle;\n",
       "    }\n",
       "\n",
       "    .dataframe tbody tr th {\n",
       "        vertical-align: top;\n",
       "    }\n",
       "\n",
       "    .dataframe thead th {\n",
       "        text-align: right;\n",
       "    }\n",
       "</style>\n",
       "<table border=\"1\" class=\"dataframe\">\n",
       "  <thead>\n",
       "    <tr style=\"text-align: right;\">\n",
       "      <th></th>\n",
       "      <th>LOCATION</th>\n",
       "      <th>TIME</th>\n",
       "      <th>PC_HEALTHXP</th>\n",
       "      <th>PC_GDP</th>\n",
       "      <th>USD_CAP</th>\n",
       "      <th>FLAG_CODES</th>\n",
       "      <th>TOTAL_SPEND</th>\n",
       "    </tr>\n",
       "  </thead>\n",
       "  <tbody>\n",
       "    <tr>\n",
       "      <th>0</th>\n",
       "      <td>AUS</td>\n",
       "      <td>1971</td>\n",
       "      <td>15.992</td>\n",
       "      <td>0.727</td>\n",
       "      <td>35.720</td>\n",
       "      <td>NaN</td>\n",
       "      <td>462.11</td>\n",
       "    </tr>\n",
       "    <tr>\n",
       "      <th>1</th>\n",
       "      <td>AUS</td>\n",
       "      <td>1972</td>\n",
       "      <td>15.091</td>\n",
       "      <td>0.686</td>\n",
       "      <td>36.056</td>\n",
       "      <td>NaN</td>\n",
       "      <td>475.11</td>\n",
       "    </tr>\n",
       "    <tr>\n",
       "      <th>2</th>\n",
       "      <td>AUS</td>\n",
       "      <td>1973</td>\n",
       "      <td>15.117</td>\n",
       "      <td>0.681</td>\n",
       "      <td>39.871</td>\n",
       "      <td>NaN</td>\n",
       "      <td>533.47</td>\n",
       "    </tr>\n",
       "    <tr>\n",
       "      <th>3</th>\n",
       "      <td>AUS</td>\n",
       "      <td>1974</td>\n",
       "      <td>14.771</td>\n",
       "      <td>0.755</td>\n",
       "      <td>47.559</td>\n",
       "      <td>NaN</td>\n",
       "      <td>652.65</td>\n",
       "    </tr>\n",
       "    <tr>\n",
       "      <th>4</th>\n",
       "      <td>AUS</td>\n",
       "      <td>1975</td>\n",
       "      <td>11.849</td>\n",
       "      <td>0.682</td>\n",
       "      <td>47.561</td>\n",
       "      <td>NaN</td>\n",
       "      <td>660.76</td>\n",
       "    </tr>\n",
       "  </tbody>\n",
       "</table>\n",
       "</div>"
      ],
      "text/plain": [
       "  LOCATION  TIME  PC_HEALTHXP  PC_GDP  USD_CAP FLAG_CODES  TOTAL_SPEND\n",
       "0      AUS  1971       15.992   0.727   35.720        NaN       462.11\n",
       "1      AUS  1972       15.091   0.686   36.056        NaN       475.11\n",
       "2      AUS  1973       15.117   0.681   39.871        NaN       533.47\n",
       "3      AUS  1974       14.771   0.755   47.559        NaN       652.65\n",
       "4      AUS  1975       11.849   0.682   47.561        NaN       660.76"
      ]
     },
     "execution_count": 52,
     "metadata": {},
     "output_type": "execute_result"
    }
   ],
   "source": [
    "#Snapshot of the new data. \n",
    "\n",
    "drugData.head()"
   ]
  },
  {
   "cell_type": "markdown",
   "id": "7d15de42",
   "metadata": {},
   "source": [
    "## Data Analysis"
   ]
  },
  {
   "cell_type": "code",
   "execution_count": null,
   "id": "901c843e",
   "metadata": {},
   "outputs": [],
   "source": []
  },
  {
   "cell_type": "markdown",
   "id": "acb024c0",
   "metadata": {},
   "source": [
    "## Data Visualization"
   ]
  },
  {
   "cell_type": "code",
   "execution_count": null,
   "id": "4ac46af9",
   "metadata": {},
   "outputs": [],
   "source": []
  },
  {
   "cell_type": "markdown",
   "id": "7f872b1c",
   "metadata": {},
   "source": [
    "## Recommendations"
   ]
  },
  {
   "cell_type": "code",
   "execution_count": null,
   "id": "86d792eb",
   "metadata": {},
   "outputs": [],
   "source": []
  }
 ],
 "metadata": {
  "kernelspec": {
   "display_name": "Python 3 (ipykernel)",
   "language": "python",
   "name": "python3"
  },
  "language_info": {
   "codemirror_mode": {
    "name": "ipython",
    "version": 3
   },
   "file_extension": ".py",
   "mimetype": "text/x-python",
   "name": "python",
   "nbconvert_exporter": "python",
   "pygments_lexer": "ipython3",
   "version": "3.9.12"
  }
 },
 "nbformat": 4,
 "nbformat_minor": 5
}
