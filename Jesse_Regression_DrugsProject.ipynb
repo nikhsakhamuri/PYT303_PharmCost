{
 "cells": [
  {
   "cell_type": "code",
   "execution_count": 87,
   "id": "21ff2a20",
   "metadata": {},
   "outputs": [],
   "source": [
    "# First we must import pandas.\n",
    "import pandas as pd\n",
    "import numpy as np\n",
    "import statsmodels.api as sm\n",
    "import matplotlib.pyplot as plt\n",
    "%matplotlib inline"
   ]
  },
  {
   "cell_type": "code",
   "execution_count": 88,
   "id": "ca6e5675",
   "metadata": {},
   "outputs": [],
   "source": [
    "# Next, we need to define the filepath to our file.\n",
    "\n",
    "filepath = ('/Users/jesse/OneDrive/Desktop/Project/Data_csv.csv')"
   ]
  },
  {
   "cell_type": "code",
   "execution_count": 89,
   "id": "1a3517c6",
   "metadata": {},
   "outputs": [],
   "source": [
    "# Now we can load our data.\n",
    "\n",
    "drugData = pd.read_csv(filepath)"
   ]
  },
  {
   "cell_type": "code",
   "execution_count": 90,
   "id": "98b6ecda",
   "metadata": {},
   "outputs": [
    {
     "name": "stdout",
     "output_type": "stream",
     "text": [
      "<class 'pandas.core.frame.DataFrame'>\n"
     ]
    }
   ],
   "source": [
    "print(type(drugData))"
   ]
  },
  {
   "cell_type": "code",
   "execution_count": 91,
   "id": "bed78efe",
   "metadata": {},
   "outputs": [
    {
     "data": {
      "text/html": [
       "<div>\n",
       "<style scoped>\n",
       "    .dataframe tbody tr th:only-of-type {\n",
       "        vertical-align: middle;\n",
       "    }\n",
       "\n",
       "    .dataframe tbody tr th {\n",
       "        vertical-align: top;\n",
       "    }\n",
       "\n",
       "    .dataframe thead th {\n",
       "        text-align: right;\n",
       "    }\n",
       "</style>\n",
       "<table border=\"1\" class=\"dataframe\">\n",
       "  <thead>\n",
       "    <tr style=\"text-align: right;\">\n",
       "      <th></th>\n",
       "      <th>LOCATION</th>\n",
       "      <th>TIME</th>\n",
       "      <th>PC_HEALTHXP</th>\n",
       "      <th>PC_GDP</th>\n",
       "      <th>USD_CAP</th>\n",
       "      <th>FLAG_CODES</th>\n",
       "      <th>TOTAL_SPEND</th>\n",
       "    </tr>\n",
       "  </thead>\n",
       "  <tbody>\n",
       "    <tr>\n",
       "      <th>0</th>\n",
       "      <td>AUS</td>\n",
       "      <td>1971</td>\n",
       "      <td>15.992</td>\n",
       "      <td>0.727</td>\n",
       "      <td>35.720</td>\n",
       "      <td>NaN</td>\n",
       "      <td>462.11</td>\n",
       "    </tr>\n",
       "    <tr>\n",
       "      <th>1</th>\n",
       "      <td>AUS</td>\n",
       "      <td>1972</td>\n",
       "      <td>15.091</td>\n",
       "      <td>0.686</td>\n",
       "      <td>36.056</td>\n",
       "      <td>NaN</td>\n",
       "      <td>475.11</td>\n",
       "    </tr>\n",
       "    <tr>\n",
       "      <th>2</th>\n",
       "      <td>AUS</td>\n",
       "      <td>1973</td>\n",
       "      <td>15.117</td>\n",
       "      <td>0.681</td>\n",
       "      <td>39.871</td>\n",
       "      <td>NaN</td>\n",
       "      <td>533.47</td>\n",
       "    </tr>\n",
       "  </tbody>\n",
       "</table>\n",
       "</div>"
      ],
      "text/plain": [
       "  LOCATION  TIME  PC_HEALTHXP  PC_GDP  USD_CAP FLAG_CODES  TOTAL_SPEND\n",
       "0      AUS  1971       15.992   0.727   35.720        NaN       462.11\n",
       "1      AUS  1972       15.091   0.686   36.056        NaN       475.11\n",
       "2      AUS  1973       15.117   0.681   39.871        NaN       533.47"
      ]
     },
     "execution_count": 91,
     "metadata": {},
     "output_type": "execute_result"
    }
   ],
   "source": [
    "drugData.head(3)"
   ]
  },
  {
   "cell_type": "code",
   "execution_count": 92,
   "id": "ddaff82e",
   "metadata": {},
   "outputs": [
    {
     "name": "stdout",
     "output_type": "stream",
     "text": [
      "<class 'pandas.core.frame.DataFrame'>\n",
      "RangeIndex: 1036 entries, 0 to 1035\n",
      "Data columns (total 7 columns):\n",
      " #   Column       Non-Null Count  Dtype  \n",
      "---  ------       --------------  -----  \n",
      " 0   LOCATION     1036 non-null   object \n",
      " 1   TIME         1036 non-null   int64  \n",
      " 2   PC_HEALTHXP  1036 non-null   float64\n",
      " 3   PC_GDP       1036 non-null   float64\n",
      " 4   USD_CAP      1036 non-null   float64\n",
      " 5   FLAG_CODES   63 non-null     object \n",
      " 6   TOTAL_SPEND  1036 non-null   float64\n",
      "dtypes: float64(4), int64(1), object(2)\n",
      "memory usage: 56.8+ KB\n"
     ]
    }
   ],
   "source": [
    "drugData.info()"
   ]
  },
  {
   "cell_type": "code",
   "execution_count": 93,
   "id": "1d81f0e1",
   "metadata": {},
   "outputs": [
    {
     "data": {
      "text/html": [
       "<div>\n",
       "<style scoped>\n",
       "    .dataframe tbody tr th:only-of-type {\n",
       "        vertical-align: middle;\n",
       "    }\n",
       "\n",
       "    .dataframe tbody tr th {\n",
       "        vertical-align: top;\n",
       "    }\n",
       "\n",
       "    .dataframe thead th {\n",
       "        text-align: right;\n",
       "    }\n",
       "</style>\n",
       "<table border=\"1\" class=\"dataframe\">\n",
       "  <thead>\n",
       "    <tr style=\"text-align: right;\">\n",
       "      <th></th>\n",
       "      <th>TIME</th>\n",
       "      <th>PC_HEALTHXP</th>\n",
       "      <th>PC_GDP</th>\n",
       "      <th>USD_CAP</th>\n",
       "      <th>TOTAL_SPEND</th>\n",
       "    </tr>\n",
       "  </thead>\n",
       "  <tbody>\n",
       "    <tr>\n",
       "      <th>count</th>\n",
       "      <td>1036.000000</td>\n",
       "      <td>1036.000000</td>\n",
       "      <td>1036.000000</td>\n",
       "      <td>1036.000000</td>\n",
       "      <td>1036.000000</td>\n",
       "    </tr>\n",
       "    <tr>\n",
       "      <th>mean</th>\n",
       "      <td>1996.809846</td>\n",
       "      <td>16.406307</td>\n",
       "      <td>1.170948</td>\n",
       "      <td>295.046989</td>\n",
       "      <td>11765.423118</td>\n",
       "    </tr>\n",
       "    <tr>\n",
       "      <th>std</th>\n",
       "      <td>12.498330</td>\n",
       "      <td>6.389064</td>\n",
       "      <td>0.465635</td>\n",
       "      <td>209.152134</td>\n",
       "      <td>34878.286123</td>\n",
       "    </tr>\n",
       "    <tr>\n",
       "      <th>min</th>\n",
       "      <td>1970.000000</td>\n",
       "      <td>5.545000</td>\n",
       "      <td>0.207000</td>\n",
       "      <td>3.160000</td>\n",
       "      <td>6.290000</td>\n",
       "    </tr>\n",
       "    <tr>\n",
       "      <th>25%</th>\n",
       "      <td>1987.000000</td>\n",
       "      <td>11.516250</td>\n",
       "      <td>0.768250</td>\n",
       "      <td>111.098500</td>\n",
       "      <td>728.180000</td>\n",
       "    </tr>\n",
       "    <tr>\n",
       "      <th>50%</th>\n",
       "      <td>1999.000000</td>\n",
       "      <td>14.967500</td>\n",
       "      <td>1.141500</td>\n",
       "      <td>266.332000</td>\n",
       "      <td>2349.570000</td>\n",
       "    </tr>\n",
       "    <tr>\n",
       "      <th>75%</th>\n",
       "      <td>2007.000000</td>\n",
       "      <td>20.590500</td>\n",
       "      <td>1.523250</td>\n",
       "      <td>446.109500</td>\n",
       "      <td>7778.180000</td>\n",
       "    </tr>\n",
       "    <tr>\n",
       "      <th>max</th>\n",
       "      <td>2016.000000</td>\n",
       "      <td>40.239000</td>\n",
       "      <td>2.797000</td>\n",
       "      <td>1162.399000</td>\n",
       "      <td>373009.910000</td>\n",
       "    </tr>\n",
       "  </tbody>\n",
       "</table>\n",
       "</div>"
      ],
      "text/plain": [
       "              TIME  PC_HEALTHXP       PC_GDP      USD_CAP    TOTAL_SPEND\n",
       "count  1036.000000  1036.000000  1036.000000  1036.000000    1036.000000\n",
       "mean   1996.809846    16.406307     1.170948   295.046989   11765.423118\n",
       "std      12.498330     6.389064     0.465635   209.152134   34878.286123\n",
       "min    1970.000000     5.545000     0.207000     3.160000       6.290000\n",
       "25%    1987.000000    11.516250     0.768250   111.098500     728.180000\n",
       "50%    1999.000000    14.967500     1.141500   266.332000    2349.570000\n",
       "75%    2007.000000    20.590500     1.523250   446.109500    7778.180000\n",
       "max    2016.000000    40.239000     2.797000  1162.399000  373009.910000"
      ]
     },
     "execution_count": 93,
     "metadata": {},
     "output_type": "execute_result"
    }
   ],
   "source": [
    "drugData.describe()"
   ]
  },
  {
   "cell_type": "code",
   "execution_count": 94,
   "id": "f5a5695a",
   "metadata": {},
   "outputs": [
    {
     "data": {
      "text/plain": [
       "array(['AUS', 'AUT', 'BEL', 'CAN', 'CZE', 'DNK', 'FIN', 'FRA', 'DEU',\n",
       "       'GRC', 'HUN', 'ISL', 'IRL', 'ITA', 'JPN', 'KOR', 'LUX', 'MEX',\n",
       "       'NLD', 'NZL', 'NOR', 'POL', 'PRT', 'SVK', 'ESP', 'SWE', 'CHE',\n",
       "       'TUR', 'GBR', 'USA', 'EST', 'SVN', 'ISR', 'LVA', 'LTU', 'RUS'],\n",
       "      dtype=object)"
      ]
     },
     "execution_count": 94,
     "metadata": {},
     "output_type": "execute_result"
    }
   ],
   "source": [
    "drugData['LOCATION'].unique()"
   ]
  },
  {
   "cell_type": "code",
   "execution_count": 95,
   "id": "ac8c36f6",
   "metadata": {},
   "outputs": [
    {
     "data": {
      "text/plain": [
       "36"
      ]
     },
     "execution_count": 95,
     "metadata": {},
     "output_type": "execute_result"
    }
   ],
   "source": [
    "drugData['LOCATION'].nunique()"
   ]
  },
  {
   "cell_type": "code",
   "execution_count": 96,
   "id": "596c7548",
   "metadata": {},
   "outputs": [
    {
     "data": {
      "text/plain": [
       "2007    33\n",
       "2013    33\n",
       "2006    33\n",
       "2012    32\n",
       "2005    32\n",
       "2014    32\n",
       "2009    32\n",
       "2010    32\n",
       "2011    32\n",
       "2008    31\n",
       "2004    31\n",
       "2015    30\n",
       "2003    28\n",
       "2002    28\n",
       "2001    26\n",
       "2000    26\n",
       "1997    25\n",
       "1996    25\n",
       "1995    25\n",
       "1999    24\n",
       "1994    24\n",
       "1990    24\n",
       "1992    23\n",
       "1993    23\n",
       "1991    22\n",
       "1998    21\n",
       "1988    20\n",
       "1985    20\n",
       "1989    20\n",
       "1987    19\n",
       "1986    19\n",
       "1984    18\n",
       "1980    18\n",
       "1981    17\n",
       "1982    17\n",
       "1983    17\n",
       "1979    13\n",
       "1978    13\n",
       "1977    13\n",
       "1976    13\n",
       "1975    13\n",
       "1970    11\n",
       "1971    11\n",
       "1972    11\n",
       "1974    11\n",
       "1973    11\n",
       "2016     4\n",
       "Name: TIME, dtype: int64"
      ]
     },
     "execution_count": 96,
     "metadata": {},
     "output_type": "execute_result"
    }
   ],
   "source": [
    "drugData['TIME'].value_counts()\n"
   ]
  },
  {
   "cell_type": "code",
   "execution_count": 97,
   "id": "e0df8cfa",
   "metadata": {},
   "outputs": [],
   "source": [
    "drugData['Total HC Exp in mill USD'] = drugData.apply(lambda x: x['TOTAL_SPEND'] / (x['PC_HEALTHXP']/100), axis=1)"
   ]
  },
  {
   "cell_type": "code",
   "execution_count": 98,
   "id": "a610199a",
   "metadata": {},
   "outputs": [],
   "source": [
    "drugData['GDP (PPP) in mill USD'] = drugData.apply(lambda x: x['TOTAL_SPEND'] / (x['PC_GDP']/100), axis=1)"
   ]
  },
  {
   "cell_type": "code",
   "execution_count": 99,
   "id": "878c2082",
   "metadata": {},
   "outputs": [],
   "source": [
    "drugData['Pop in mill'] = drugData.apply(lambda x: x['TOTAL_SPEND'] / x['USD_CAP'], axis=1)"
   ]
  },
  {
   "cell_type": "code",
   "execution_count": 100,
   "id": "25e0b5dd",
   "metadata": {},
   "outputs": [],
   "source": [
    "drugData['GDP (PPP) per Capita in USD'] = drugData.apply(lambda x: x['GDP (PPP) in mill USD'] / x['Pop in mill'], axis=1)"
   ]
  },
  {
   "cell_type": "code",
   "execution_count": 101,
   "id": "eec1397d",
   "metadata": {},
   "outputs": [
    {
     "data": {
      "text/html": [
       "<div>\n",
       "<style scoped>\n",
       "    .dataframe tbody tr th:only-of-type {\n",
       "        vertical-align: middle;\n",
       "    }\n",
       "\n",
       "    .dataframe tbody tr th {\n",
       "        vertical-align: top;\n",
       "    }\n",
       "\n",
       "    .dataframe thead th {\n",
       "        text-align: right;\n",
       "    }\n",
       "</style>\n",
       "<table border=\"1\" class=\"dataframe\">\n",
       "  <thead>\n",
       "    <tr style=\"text-align: right;\">\n",
       "      <th></th>\n",
       "      <th>LOCATION</th>\n",
       "      <th>TIME</th>\n",
       "      <th>PC_HEALTHXP</th>\n",
       "      <th>PC_GDP</th>\n",
       "      <th>USD_CAP</th>\n",
       "      <th>FLAG_CODES</th>\n",
       "      <th>TOTAL_SPEND</th>\n",
       "      <th>Total HC Exp in mill USD</th>\n",
       "      <th>GDP (PPP) in mill USD</th>\n",
       "      <th>Pop in mill</th>\n",
       "      <th>GDP (PPP) per Capita in USD</th>\n",
       "    </tr>\n",
       "  </thead>\n",
       "  <tbody>\n",
       "    <tr>\n",
       "      <th>0</th>\n",
       "      <td>AUS</td>\n",
       "      <td>1971</td>\n",
       "      <td>15.992</td>\n",
       "      <td>0.727</td>\n",
       "      <td>35.720</td>\n",
       "      <td>NaN</td>\n",
       "      <td>462.11</td>\n",
       "      <td>2889.632316</td>\n",
       "      <td>63563.961486</td>\n",
       "      <td>12.937010</td>\n",
       "      <td>4913.342503</td>\n",
       "    </tr>\n",
       "    <tr>\n",
       "      <th>1</th>\n",
       "      <td>AUS</td>\n",
       "      <td>1972</td>\n",
       "      <td>15.091</td>\n",
       "      <td>0.686</td>\n",
       "      <td>36.056</td>\n",
       "      <td>NaN</td>\n",
       "      <td>475.11</td>\n",
       "      <td>3148.300311</td>\n",
       "      <td>69258.017493</td>\n",
       "      <td>13.177002</td>\n",
       "      <td>5255.976676</td>\n",
       "    </tr>\n",
       "    <tr>\n",
       "      <th>2</th>\n",
       "      <td>AUS</td>\n",
       "      <td>1973</td>\n",
       "      <td>15.117</td>\n",
       "      <td>0.681</td>\n",
       "      <td>39.871</td>\n",
       "      <td>NaN</td>\n",
       "      <td>533.47</td>\n",
       "      <td>3528.940927</td>\n",
       "      <td>78336.270191</td>\n",
       "      <td>13.379900</td>\n",
       "      <td>5854.772394</td>\n",
       "    </tr>\n",
       "    <tr>\n",
       "      <th>3</th>\n",
       "      <td>AUS</td>\n",
       "      <td>1974</td>\n",
       "      <td>14.771</td>\n",
       "      <td>0.755</td>\n",
       "      <td>47.559</td>\n",
       "      <td>NaN</td>\n",
       "      <td>652.65</td>\n",
       "      <td>4418.455081</td>\n",
       "      <td>86443.708609</td>\n",
       "      <td>13.722955</td>\n",
       "      <td>6299.205298</td>\n",
       "    </tr>\n",
       "    <tr>\n",
       "      <th>4</th>\n",
       "      <td>AUS</td>\n",
       "      <td>1975</td>\n",
       "      <td>11.849</td>\n",
       "      <td>0.682</td>\n",
       "      <td>47.561</td>\n",
       "      <td>NaN</td>\n",
       "      <td>660.76</td>\n",
       "      <td>5576.504346</td>\n",
       "      <td>96885.630499</td>\n",
       "      <td>13.892895</td>\n",
       "      <td>6973.753666</td>\n",
       "    </tr>\n",
       "  </tbody>\n",
       "</table>\n",
       "</div>"
      ],
      "text/plain": [
       "  LOCATION  TIME  PC_HEALTHXP  PC_GDP  USD_CAP FLAG_CODES  TOTAL_SPEND  \\\n",
       "0      AUS  1971       15.992   0.727   35.720        NaN       462.11   \n",
       "1      AUS  1972       15.091   0.686   36.056        NaN       475.11   \n",
       "2      AUS  1973       15.117   0.681   39.871        NaN       533.47   \n",
       "3      AUS  1974       14.771   0.755   47.559        NaN       652.65   \n",
       "4      AUS  1975       11.849   0.682   47.561        NaN       660.76   \n",
       "\n",
       "   Total HC Exp in mill USD  GDP (PPP) in mill USD  Pop in mill  \\\n",
       "0               2889.632316           63563.961486    12.937010   \n",
       "1               3148.300311           69258.017493    13.177002   \n",
       "2               3528.940927           78336.270191    13.379900   \n",
       "3               4418.455081           86443.708609    13.722955   \n",
       "4               5576.504346           96885.630499    13.892895   \n",
       "\n",
       "   GDP (PPP) per Capita in USD  \n",
       "0                  4913.342503  \n",
       "1                  5255.976676  \n",
       "2                  5854.772394  \n",
       "3                  6299.205298  \n",
       "4                  6973.753666  "
      ]
     },
     "execution_count": 101,
     "metadata": {},
     "output_type": "execute_result"
    }
   ],
   "source": [
    "drugData.head()"
   ]
  },
  {
   "cell_type": "code",
   "execution_count": 102,
   "id": "e61dedbc",
   "metadata": {},
   "outputs": [],
   "source": [
    "mergedData_2013 = drugData.loc[drugData['TIME'] == 2013,:]"
   ]
  },
  {
   "cell_type": "code",
   "execution_count": 103,
   "id": "8f699fbe",
   "metadata": {
    "scrolled": true
   },
   "outputs": [
    {
     "data": {
      "text/html": [
       "<div>\n",
       "<style scoped>\n",
       "    .dataframe tbody tr th:only-of-type {\n",
       "        vertical-align: middle;\n",
       "    }\n",
       "\n",
       "    .dataframe tbody tr th {\n",
       "        vertical-align: top;\n",
       "    }\n",
       "\n",
       "    .dataframe thead th {\n",
       "        text-align: right;\n",
       "    }\n",
       "</style>\n",
       "<table border=\"1\" class=\"dataframe\">\n",
       "  <thead>\n",
       "    <tr style=\"text-align: right;\">\n",
       "      <th></th>\n",
       "      <th>LOCATION</th>\n",
       "      <th>TIME</th>\n",
       "      <th>PC_HEALTHXP</th>\n",
       "      <th>PC_GDP</th>\n",
       "      <th>USD_CAP</th>\n",
       "      <th>FLAG_CODES</th>\n",
       "      <th>TOTAL_SPEND</th>\n",
       "      <th>Total HC Exp in mill USD</th>\n",
       "      <th>GDP (PPP) in mill USD</th>\n",
       "      <th>Pop in mill</th>\n",
       "      <th>GDP (PPP) per Capita in USD</th>\n",
       "    </tr>\n",
       "  </thead>\n",
       "  <tbody>\n",
       "    <tr>\n",
       "      <th>42</th>\n",
       "      <td>AUS</td>\n",
       "      <td>2013</td>\n",
       "      <td>14.989</td>\n",
       "      <td>1.320</td>\n",
       "      <td>627.402</td>\n",
       "      <td>NaN</td>\n",
       "      <td>14503.87</td>\n",
       "      <td>96763.426513</td>\n",
       "      <td>1.098778e+06</td>\n",
       "      <td>23.117347</td>\n",
       "      <td>47530.454545</td>\n",
       "    </tr>\n",
       "    <tr>\n",
       "      <th>67</th>\n",
       "      <td>AUT</td>\n",
       "      <td>2013</td>\n",
       "      <td>12.222</td>\n",
       "      <td>1.245</td>\n",
       "      <td>594.130</td>\n",
       "      <td>NaN</td>\n",
       "      <td>5037.85</td>\n",
       "      <td>41219.522173</td>\n",
       "      <td>4.046466e+05</td>\n",
       "      <td>8.479373</td>\n",
       "      <td>47721.285141</td>\n",
       "    </tr>\n",
       "    <tr>\n",
       "      <th>108</th>\n",
       "      <td>BEL</td>\n",
       "      <td>2013</td>\n",
       "      <td>14.273</td>\n",
       "      <td>1.480</td>\n",
       "      <td>642.958</td>\n",
       "      <td>NaN</td>\n",
       "      <td>7190.08</td>\n",
       "      <td>50375.394101</td>\n",
       "      <td>4.858162e+05</td>\n",
       "      <td>11.182814</td>\n",
       "      <td>43443.108108</td>\n",
       "    </tr>\n",
       "    <tr>\n",
       "      <th>154</th>\n",
       "      <td>CAN</td>\n",
       "      <td>2013</td>\n",
       "      <td>17.575</td>\n",
       "      <td>1.778</td>\n",
       "      <td>783.949</td>\n",
       "      <td>NaN</td>\n",
       "      <td>27560.08</td>\n",
       "      <td>156814.110953</td>\n",
       "      <td>1.550061e+06</td>\n",
       "      <td>35.155450</td>\n",
       "      <td>44091.619798</td>\n",
       "    </tr>\n",
       "    <tr>\n",
       "      <th>179</th>\n",
       "      <td>CZE</td>\n",
       "      <td>2013</td>\n",
       "      <td>17.932</td>\n",
       "      <td>1.384</td>\n",
       "      <td>421.887</td>\n",
       "      <td>NaN</td>\n",
       "      <td>4435.83</td>\n",
       "      <td>24736.950703</td>\n",
       "      <td>3.205079e+05</td>\n",
       "      <td>10.514261</td>\n",
       "      <td>30483.164740</td>\n",
       "    </tr>\n",
       "  </tbody>\n",
       "</table>\n",
       "</div>"
      ],
      "text/plain": [
       "    LOCATION  TIME  PC_HEALTHXP  PC_GDP  USD_CAP FLAG_CODES  TOTAL_SPEND  \\\n",
       "42       AUS  2013       14.989   1.320  627.402        NaN     14503.87   \n",
       "67       AUT  2013       12.222   1.245  594.130        NaN      5037.85   \n",
       "108      BEL  2013       14.273   1.480  642.958        NaN      7190.08   \n",
       "154      CAN  2013       17.575   1.778  783.949        NaN     27560.08   \n",
       "179      CZE  2013       17.932   1.384  421.887        NaN      4435.83   \n",
       "\n",
       "     Total HC Exp in mill USD  GDP (PPP) in mill USD  Pop in mill  \\\n",
       "42               96763.426513           1.098778e+06    23.117347   \n",
       "67               41219.522173           4.046466e+05     8.479373   \n",
       "108              50375.394101           4.858162e+05    11.182814   \n",
       "154             156814.110953           1.550061e+06    35.155450   \n",
       "179              24736.950703           3.205079e+05    10.514261   \n",
       "\n",
       "     GDP (PPP) per Capita in USD  \n",
       "42                  47530.454545  \n",
       "67                  47721.285141  \n",
       "108                 43443.108108  \n",
       "154                 44091.619798  \n",
       "179                 30483.164740  "
      ]
     },
     "execution_count": 103,
     "metadata": {},
     "output_type": "execute_result"
    }
   ],
   "source": [
    "mergedData_2013.head()"
   ]
  },
  {
   "cell_type": "code",
   "execution_count": 104,
   "id": "eeb957e9",
   "metadata": {},
   "outputs": [],
   "source": [
    "Xvar = mergedData_2013[['GDP (PPP) per Capita in USD']]\n",
    "Yvar = mergedData_2013[['USD_CAP']]"
   ]
  },
  {
   "cell_type": "code",
   "execution_count": 105,
   "id": "51b9a1c7",
   "metadata": {},
   "outputs": [
    {
     "data": {
      "text/html": [
       "<div>\n",
       "<style scoped>\n",
       "    .dataframe tbody tr th:only-of-type {\n",
       "        vertical-align: middle;\n",
       "    }\n",
       "\n",
       "    .dataframe tbody tr th {\n",
       "        vertical-align: top;\n",
       "    }\n",
       "\n",
       "    .dataframe thead th {\n",
       "        text-align: right;\n",
       "    }\n",
       "</style>\n",
       "<table border=\"1\" class=\"dataframe\">\n",
       "  <thead>\n",
       "    <tr style=\"text-align: right;\">\n",
       "      <th></th>\n",
       "      <th>USD_CAP</th>\n",
       "    </tr>\n",
       "  </thead>\n",
       "  <tbody>\n",
       "    <tr>\n",
       "      <th>42</th>\n",
       "      <td>627.402</td>\n",
       "    </tr>\n",
       "    <tr>\n",
       "      <th>67</th>\n",
       "      <td>594.130</td>\n",
       "    </tr>\n",
       "  </tbody>\n",
       "</table>\n",
       "</div>"
      ],
      "text/plain": [
       "    USD_CAP\n",
       "42  627.402\n",
       "67  594.130"
      ]
     },
     "execution_count": 105,
     "metadata": {},
     "output_type": "execute_result"
    }
   ],
   "source": [
    "Yvar.head(2)"
   ]
  },
  {
   "cell_type": "code",
   "execution_count": 106,
   "id": "3958e3e2",
   "metadata": {},
   "outputs": [
    {
     "data": {
      "text/html": [
       "<div>\n",
       "<style scoped>\n",
       "    .dataframe tbody tr th:only-of-type {\n",
       "        vertical-align: middle;\n",
       "    }\n",
       "\n",
       "    .dataframe tbody tr th {\n",
       "        vertical-align: top;\n",
       "    }\n",
       "\n",
       "    .dataframe thead th {\n",
       "        text-align: right;\n",
       "    }\n",
       "</style>\n",
       "<table border=\"1\" class=\"dataframe\">\n",
       "  <thead>\n",
       "    <tr style=\"text-align: right;\">\n",
       "      <th></th>\n",
       "      <th>GDP (PPP) per Capita in USD</th>\n",
       "    </tr>\n",
       "  </thead>\n",
       "  <tbody>\n",
       "    <tr>\n",
       "      <th>42</th>\n",
       "      <td>47530.454545</td>\n",
       "    </tr>\n",
       "    <tr>\n",
       "      <th>67</th>\n",
       "      <td>47721.285141</td>\n",
       "    </tr>\n",
       "  </tbody>\n",
       "</table>\n",
       "</div>"
      ],
      "text/plain": [
       "    GDP (PPP) per Capita in USD\n",
       "42                 47530.454545\n",
       "67                 47721.285141"
      ]
     },
     "execution_count": 106,
     "metadata": {},
     "output_type": "execute_result"
    }
   ],
   "source": [
    "Xvar.head(2)"
   ]
  },
  {
   "cell_type": "code",
   "execution_count": 107,
   "id": "5637a742",
   "metadata": {},
   "outputs": [],
   "source": [
    "Xvar2 = sm.add_constant(Xvar)"
   ]
  },
  {
   "cell_type": "code",
   "execution_count": 108,
   "id": "25e297d8",
   "metadata": {},
   "outputs": [],
   "source": [
    "linearModel = sm.OLS(Yvar, Xvar2).fit()"
   ]
  },
  {
   "cell_type": "code",
   "execution_count": 109,
   "id": "7ad03db3",
   "metadata": {},
   "outputs": [
    {
     "name": "stdout",
     "output_type": "stream",
     "text": [
      "                            OLS Regression Results                            \n",
      "==============================================================================\n",
      "Dep. Variable:                USD_CAP   R-squared:                       0.153\n",
      "Model:                            OLS   Adj. R-squared:                  0.126\n",
      "Method:                 Least Squares   F-statistic:                     5.593\n",
      "Date:                Sat, 03 Dec 2022   Prob (F-statistic):             0.0245\n",
      "Time:                        10:46:40   Log-Likelihood:                -213.73\n",
      "No. Observations:                  33   AIC:                             431.5\n",
      "Df Residuals:                      31   BIC:                             434.4\n",
      "Df Model:                           1                                         \n",
      "Covariance Type:            nonrobust                                         \n",
      "===============================================================================================\n",
      "                                  coef    std err          t      P>|t|      [0.025      0.975]\n",
      "-----------------------------------------------------------------------------------------------\n",
      "const                         370.4661     77.818      4.761      0.000     211.756     529.176\n",
      "GDP (PPP) per Capita in USD     0.0043      0.002      2.365      0.024       0.001       0.008\n",
      "==============================================================================\n",
      "Omnibus:                        1.743   Durbin-Watson:                   1.781\n",
      "Prob(Omnibus):                  0.418   Jarque-Bera (JB):                1.462\n",
      "Skew:                           0.500   Prob(JB):                        0.481\n",
      "Kurtosis:                       2.749   Cond. No.                     1.18e+05\n",
      "==============================================================================\n",
      "\n",
      "Notes:\n",
      "[1] Standard Errors assume that the covariance matrix of the errors is correctly specified.\n",
      "[2] The condition number is large, 1.18e+05. This might indicate that there are\n",
      "strong multicollinearity or other numerical problems.\n"
     ]
    }
   ],
   "source": [
    "print(linearModel.summary())"
   ]
  },
  {
   "cell_type": "code",
   "execution_count": 116,
   "id": "3ffbcf0a",
   "metadata": {},
   "outputs": [
    {
     "data": {
      "text/plain": [
       "Text(0, 0.5, 'Drug Expenditure per Capita in USD')"
      ]
     },
     "execution_count": 116,
     "metadata": {},
     "output_type": "execute_result"
    },
    {
     "data": {
      "image/png": "[encoded data removed]",
      "text/plain": [
       "<Figure size 1080x360 with 1 Axes>"
      ]
     },
     "metadata": {
      "needs_background": "light"
     },
     "output_type": "display_data"
    }
   ],
   "source": [
    "fig, axs = plt.subplots(1, 1, figsize=(15, 5))\n",
    "mergedData_2013[['USD_CAP', 'GDP (PPP) per Capita in USD']].plot(kind='scatter',ax=axs, x='GDP (PPP) per Capita in USD', y='USD_CAP')\n",
    "axs.set_title('Relationship Between Income and Drug Expensiture on per Capita Basis')\n",
    "axs.set_xlabel('GDP PPP per Capita in USD')\n",
    "axs.set_ylabel('Drug Expenditure per Capita in USD')"
   ]
  }
 ],
 "metadata": {
  "kernelspec": {
   "display_name": "Python 3 (ipykernel)",
   "language": "python",
   "name": "python3"
  },
  "language_info": {
   "codemirror_mode": {
    "name": "ipython",
    "version": 3
   },
   "file_extension": ".py",
   "mimetype": "text/x-python",
   "name": "python",
   "nbconvert_exporter": "python",
   "pygments_lexer": "ipython3",
   "version": "3.9.12"
  }
 },
 "nbformat": 4,
 "nbformat_minor": 5
}
